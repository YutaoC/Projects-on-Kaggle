{
 "cells": [
  {
   "cell_type": "code",
   "execution_count": 1,
   "metadata": {},
   "outputs": [
    {
     "name": "stderr",
     "output_type": "stream",
     "text": [
      "Using TensorFlow backend.\n"
     ]
    }
   ],
   "source": [
    "import pandas as pd\n",
    "import numpy as np\n",
    "import matplotlib.pyplot as plt\n",
    "import seaborn as sns\n",
    "import tensorflow as tf\n",
    "import keras\n",
    "\n",
    "from sklearn.model_selection import train_test_split\n"
   ]
  },
  {
   "cell_type": "markdown",
   "metadata": {},
   "source": [
    "1. Load data\n",
    "load the data from the file\n",
    "each image is 28 x 28 = 784\n",
    "training date set --> (42000 images, label size = 2 + image size = 784)\n",
    "testing data set --> (28000 images, image_size = 784)\n"
   ]
  },
  {
   "cell_type": "code",
   "execution_count": 18,
   "metadata": {},
   "outputs": [
    {
     "name": "stdout",
     "output_type": "stream",
     "text": [
      "The dimension of training data is: (42000, 785)\n",
      "The dimension of testing data is: (28000, 784)\n"
     ]
    }
   ],
   "source": [
    "# Load the date set\n",
    "train = pd.read_csv(\"train.csv\")\n",
    "test = pd.read_csv(\"test.csv\")\n",
    "print('The dimension of training data is: {}'.format(train.shape))\n",
    "print('The dimension of testing data is: {}'.format(test.shape))\n"
   ]
  },
  {
   "cell_type": "markdown",
   "metadata": {},
   "source": [
    "2. Separate data\n",
    "separate the data as images and labels\n",
    "delete the original variables to free some space"
   ]
  },
  {
   "cell_type": "code",
   "execution_count": 19,
   "metadata": {},
   "outputs": [
    {
     "data": {
      "image/png": "[encoded data removed]",
      "text/plain": [
       "<Figure size 432x288 with 1 Axes>"
      ]
     },
     "metadata": {
      "needs_background": "light"
     },
     "output_type": "display_data"
    }
   ],
   "source": [
    "# Separate the label and image\n",
    "train_label = train['label']\n",
    "train_img = train.drop(columns='label')\n",
    "test_img = test\n",
    "del train\n",
    "del test\n",
    "axes = sns.countplot(train_label)  # visulize the training labels\n"
   ]
  },
  {
   "cell_type": "markdown",
   "metadata": {},
   "source": [
    "3. Normalization\n",
    "normalize the value of the images to \\[0,1\\]"
   ]
  },
  {
   "cell_type": "code",
   "execution_count": 20,
   "metadata": {},
   "outputs": [],
   "source": [
    "# Normalization\n",
    "train_img = train_img / 255.0\n",
    "test_img = test_img / 255.0\n"
   ]
  },
  {
   "cell_type": "markdown",
   "metadata": {},
   "source": [
    "4. Reshape\n",
    "Reshape the data: 784 --> 28 x 28"
   ]
  },
  {
   "cell_type": "code",
   "execution_count": 21,
   "metadata": {},
   "outputs": [
    {
     "name": "stdout",
     "output_type": "stream",
     "text": [
      "The dimension of the training data after reshape is: (42000, 28, 28, 1)\n",
      "The dimension of the testing data after reshape is: (28000, 28, 28, 1)\n"
     ]
    }
   ],
   "source": [
    "# Reshape the data\n",
    "train_img = train_img.values.reshape(-1,28,28,1)\n",
    "test_img = test_img.values.reshape(-1,28,28,1)\n",
    "print('The dimension of the training data after reshape is: {}'.format(train_img.shape))\n",
    "print('The dimension of the testing data after reshape is: {}'.format(test_img.shape))\n"
   ]
  },
  {
   "cell_type": "markdown",
   "metadata": {},
   "source": [
    "5. Connvert to hot map\n",
    "convert each label to a hot map\n",
    "Example: if the label is 1 --> \\[0. 1. 0. 0. 0. 0. 0. 0. 0\\]"
   ]
  },
  {
   "cell_type": "code",
   "execution_count": 22,
   "metadata": {},
   "outputs": [
    {
     "name": "stdout",
     "output_type": "stream",
     "text": [
      "One example of the hot map is:\n",
      "The label --> 1\n",
      "converting to --> [0. 1. 0. 0. 0. 0. 0. 0. 0. 0.]\n"
     ]
    }
   ],
   "source": [
    "# Covert label to hot map\n",
    "train_label = keras.utils.np_utils.to_categorical(train_label, num_classes=10)\n",
    "print('One example of the hot map is:\\nThe label --> {}\\nconverting to --> {}'.\n",
    "      format(np.nonzero(train_label[0])[0][0], train_label[0]))"
   ]
  },
  {
   "cell_type": "markdown",
   "metadata": {},
   "source": [
    "6. Train set and validate set\n",
    "sepaeate the training data set into train set and validate set\n",
    "use 15% of the image to form the validation set\n",
    "\\# of train images = 42000 x 0.85 = 35700\n",
    "\\# of validate images = 42000 x 0.15 = 6300"
   ]
  },
  {
   "cell_type": "code",
   "execution_count": 23,
   "metadata": {},
   "outputs": [
    {
     "name": "stdout",
     "output_type": "stream",
     "text": [
      "The size of the train set is: 35700\n",
      "The size of the validate set is: 6300\n"
     ]
    }
   ],
   "source": [
    "# Create the train set and validation set\n",
    "train_img, vali_img, train_label, vali_label = train_test_split(train_img, train_label, \n",
    "                                                                test_size = 0.15, random_state=2)\n",
    "print('The size of the train set is: {}'.format(train_img.shape[0]))\n",
    "print('The size of the validate set is: {}'.format(vali_img.shape[0]))"
   ]
  },
  {
   "cell_type": "markdown",
   "metadata": {},
   "source": [
    "7. Some examples\n",
    "show some samples images with their labels"
   ]
  },
  {
   "cell_type": "code",
   "execution_count": 24,
   "metadata": {},
   "outputs": [
    {
     "data": {
      "image/png": "[encoded data removed]",
      "text/plain": [
       "<Figure size 432x288 with 10 Axes>"
      ]
     },
     "metadata": {
      "needs_background": "light"
     },
     "output_type": "display_data"
    }
   ],
   "source": [
    "# Visualize one sample of the data\n",
    "# Sample images from the train set\n",
    "for i in range(5):\n",
    "    plt.subplot(2, 5, i+1)\n",
    "    plt.imshow(train_img[i][:,:,0], cmap='gray')\n",
    "    plt.title(\"label :{}\".format(np.nonzero(train_label[i])[0][0]))\n",
    "# Sample images from the test set\n",
    "for i in range(5):\n",
    "    plt.subplot(2, 5, 5+i+1)\n",
    "    plt.imshow(vali_img[i][:,:,0], cmap='gray')\n",
    "    plt.title(\"label :{}\".format(np.nonzero(vali_label[i])[0][0]))\n",
    "plt.subplots_adjust(left = 0.125, right = 2, top = 1.5, bottom = 0.1)\n"
   ]
  },
  {
   "cell_type": "markdown",
   "metadata": {},
   "source": [
    "8. Define the model\n",
    "model --> \\[Conv2D, MaxPool2D, Conv2D, Dropout, MaxPool2D, Conv2D, MaxPool2D, Conv2D, Dropout, MaxPool2D, Flatten, Dense, Dropout, Dense\\]"
   ]
  },
  {
   "cell_type": "code",
   "execution_count": 28,
   "metadata": {},
   "outputs": [
    {
     "name": "stdout",
     "output_type": "stream",
     "text": [
      "_________________________________________________________________\n",
      "Layer (type)                 Output Shape              Param #   \n",
      "=================================================================\n",
      "conv2d_9 (Conv2D)            (None, 28, 28, 6)         156       \n",
      "_________________________________________________________________\n",
      "max_pooling2d_9 (MaxPooling2 (None, 14, 14, 6)         0         \n",
      "_________________________________________________________________\n",
      "conv2d_10 (Conv2D)           (None, 14, 14, 16)        2416      \n",
      "_________________________________________________________________\n",
      "dropout_7 (Dropout)          (None, 14, 14, 16)        0         \n",
      "_________________________________________________________________\n",
      "max_pooling2d_10 (MaxPooling (None, 7, 7, 16)          0         \n",
      "_________________________________________________________________\n",
      "conv2d_11 (Conv2D)           (None, 7, 7, 32)          4640      \n",
      "_________________________________________________________________\n",
      "max_pooling2d_11 (MaxPooling (None, 3, 3, 32)          0         \n",
      "_________________________________________________________________\n",
      "conv2d_12 (Conv2D)           (None, 3, 3, 64)          18496     \n",
      "_________________________________________________________________\n",
      "dropout_8 (Dropout)          (None, 3, 3, 64)          0         \n",
      "_________________________________________________________________\n",
      "max_pooling2d_12 (MaxPooling (None, 1, 1, 64)          0         \n",
      "_________________________________________________________________\n",
      "flatten_3 (Flatten)          (None, 64)                0         \n",
      "_________________________________________________________________\n",
      "dense_5 (Dense)              (None, 256)               16640     \n",
      "_________________________________________________________________\n",
      "dropout_9 (Dropout)          (None, 256)               0         \n",
      "_________________________________________________________________\n",
      "dense_6 (Dense)              (None, 10)                2570      \n",
      "=================================================================\n",
      "Total params: 44,918\n",
      "Trainable params: 44,918\n",
      "Non-trainable params: 0\n",
      "_________________________________________________________________\n"
     ]
    }
   ],
   "source": [
    "# Define the model\n",
    "model = keras.models.Sequential()  # create the model\n",
    "\n",
    "model.add(keras.layers.Conv2D(filters = 6, kernel_size = (5,5),padding = 'Same', \n",
    "                             activation ='relu', input_shape = (28,28,1)))\n",
    "model.add(keras.layers.MaxPool2D(pool_size=(2,2)))\n",
    "\n",
    "model.add(keras.layers.Conv2D(filters = 16, kernel_size = (5,5),padding = 'Same', \n",
    "                             activation ='relu',))\n",
    "model.add(keras.layers.Dropout(rate=0.15))\n",
    "model.add(keras.layers.MaxPool2D(pool_size=(2,2)))\n",
    "\n",
    "model.add(keras.layers.Conv2D(filters = 32, kernel_size = (3,3),padding = 'Same', \n",
    "                 activation ='relu'))\n",
    "model.add(keras.layers.MaxPool2D(pool_size=(2,2)))\n",
    "\n",
    "model.add(keras.layers.Conv2D(filters = 64, kernel_size = (3,3),padding = 'Same', \n",
    "                 activation ='relu'))\n",
    "model.add(keras.layers.Dropout(rate=0.15))\n",
    "model.add(keras.layers.MaxPool2D(pool_size=(2,2), strides=(2,2)))\n",
    "\n",
    "model.add(keras.layers.Flatten())\n",
    "model.add(keras.layers.Dense(256, activation=tf.nn.relu))\n",
    "model.add(keras.layers.Dropout(rate=0.5))\n",
    "model.add(keras.layers.Dense(10, activation=tf.nn.softmax))\n",
    "\n",
    "model.summary()\n"
   ]
  },
  {
   "cell_type": "markdown",
   "metadata": {},
   "source": [
    "9. Compile and train the model\n",
    "lr --> learning rate\n",
    "epsilon --> fuzzy factor (default)\n",
    "decay -->  learning rate decay over each update (default)\n",
    "loss --> loss function\n",
    "metrics --> evaluate the accuracy when training"
   ]
  },
  {
   "cell_type": "code",
   "execution_count": 30,
   "metadata": {},
   "outputs": [
    {
     "name": "stdout",
     "output_type": "stream",
     "text": [
      "Train on 35700 samples, validate on 6300 samples\n",
      "Epoch 1/20\n",
      " - 24s - loss: 0.0906 - acc: 0.9727 - val_loss: 0.0928 - val_acc: 0.9706\n",
      "Epoch 2/20\n",
      " - 24s - loss: 0.0724 - acc: 0.9788 - val_loss: 0.0628 - val_acc: 0.9817\n",
      "Epoch 3/20\n",
      " - 24s - loss: 0.0611 - acc: 0.9822 - val_loss: 0.0575 - val_acc: 0.9840\n",
      "Epoch 4/20\n",
      " - 23s - loss: 0.0548 - acc: 0.9835 - val_loss: 0.0470 - val_acc: 0.9849\n",
      "Epoch 5/20\n",
      " - 23s - loss: 0.0501 - acc: 0.9850 - val_loss: 0.0516 - val_acc: 0.9849\n",
      "Epoch 6/20\n",
      " - 24s - loss: 0.0485 - acc: 0.9863 - val_loss: 0.0535 - val_acc: 0.9841\n",
      "Epoch 7/20\n",
      " - 23s - loss: 0.0409 - acc: 0.9875 - val_loss: 0.0452 - val_acc: 0.9867\n",
      "Epoch 8/20\n",
      " - 23s - loss: 0.0395 - acc: 0.9878 - val_loss: 0.0519 - val_acc: 0.9860\n",
      "Epoch 9/20\n",
      " - 23s - loss: 0.0400 - acc: 0.9884 - val_loss: 0.0378 - val_acc: 0.9876\n",
      "Epoch 10/20\n",
      " - 23s - loss: 0.0363 - acc: 0.9894 - val_loss: 0.0422 - val_acc: 0.9883\n",
      "Epoch 11/20\n",
      " - 24s - loss: 0.0337 - acc: 0.9894 - val_loss: 0.0480 - val_acc: 0.9865\n",
      "Epoch 12/20\n",
      " - 23s - loss: 0.0335 - acc: 0.9905 - val_loss: 0.0530 - val_acc: 0.9863\n",
      "Epoch 13/20\n",
      " - 24s - loss: 0.0309 - acc: 0.9908 - val_loss: 0.0412 - val_acc: 0.9883\n",
      "Epoch 14/20\n",
      " - 23s - loss: 0.0293 - acc: 0.9908 - val_loss: 0.0481 - val_acc: 0.9875\n",
      "Epoch 15/20\n",
      " - 23s - loss: 0.0267 - acc: 0.9924 - val_loss: 0.0419 - val_acc: 0.9884\n",
      "Epoch 16/20\n",
      " - 23s - loss: 0.0300 - acc: 0.9907 - val_loss: 0.0441 - val_acc: 0.9873\n",
      "Epoch 17/20\n",
      " - 23s - loss: 0.0247 - acc: 0.9928 - val_loss: 0.0452 - val_acc: 0.9873\n",
      "Epoch 18/20\n",
      " - 23s - loss: 0.0260 - acc: 0.9923 - val_loss: 0.0450 - val_acc: 0.9873\n",
      "Epoch 19/20\n",
      " - 24s - loss: 0.0238 - acc: 0.9930 - val_loss: 0.0613 - val_acc: 0.9840\n",
      "Epoch 20/20\n",
      " - 23s - loss: 0.0236 - acc: 0.9924 - val_loss: 0.0382 - val_acc: 0.9892\n"
     ]
    }
   ],
   "source": [
    "# Other parameters setting for the model\n",
    "opt = keras.optimizers.Adam(lr=0.001, beta_1=0.9, beta_2=0.999, epsilon=None, decay=0.0, amsgrad=False)\n",
    "model.compile(optimizer=opt,\n",
    "              loss='categorical_crossentropy',\n",
    "              metrics=['accuracy'])\n",
    "history = model.fit(train_img, train_label, batch_size = 32, epochs = 20, \n",
    "                    validation_data = (vali_img, vali_label), verbose = 2)\n"
   ]
  },
  {
   "cell_type": "markdown",
   "metadata": {},
   "source": [
    "10. Visualize the learning\n",
    "visualize the learning curve(loss and accuracy)"
   ]
  },
  {
   "cell_type": "code",
   "execution_count": 31,
   "metadata": {},
   "outputs": [
    {
     "data": {
      "text/plain": [
       "<matplotlib.legend.Legend at 0x13709d668>"
      ]
     },
     "execution_count": 31,
     "metadata": {},
     "output_type": "execute_result"
    },
    {
     "data": {
      "image/png": "[encoded data removed]",
      "text/plain": [
       "<Figure size 432x288 with 2 Axes>"
      ]
     },
     "metadata": {
      "needs_background": "light"
     },
     "output_type": "display_data"
    }
   ],
   "source": [
    "# Plot the learning curve\n",
    "plt.subplot(2, 1, 1)\n",
    "plt.plot(history.history['loss'], color='b', label=\"Training loss\")\n",
    "plt.plot(history.history['val_loss'], color='r', label=\"validation loss\")\n",
    "plt.legend(loc='best', shadow=True)\n",
    "\n",
    "plt.subplot(2, 1, 2)\n",
    "plt.plot(history.history['acc'], color='b', label=\"Training accuracy\")\n",
    "plt.plot(history.history['val_acc'], color='r',label=\"Validation accuracy\")\n",
    "plt.legend(loc='best', shadow=True)\n"
   ]
  },
  {
   "cell_type": "markdown",
   "metadata": {},
   "source": [
    "11. Some top error\n",
    "Show top 10 errors\n",
    "'top' meaning the difference between the prob. of perdicte label and the prob. of true label is the biggest\n"
   ]
  },
  {
   "cell_type": "code",
   "execution_count": 32,
   "metadata": {},
   "outputs": [
    {
     "data": {
      "image/png": "[encoded data removed]",
      "text/plain": [
       "<Figure size 432x288 with 10 Axes>"
      ]
     },
     "metadata": {
      "needs_background": "light"
     },
     "output_type": "display_data"
    }
   ],
   "source": [
    "# Dsiplay some incorrectly classified images\n",
    "pred_prob = model.predict(vali_img)  # prob. of different classes\n",
    "pred_class = np.argmax(pred_prob,axis = 1)  # predicted classes\n",
    "true_class = np.argmax(vali_label,axis = 1)  # actual classes\n",
    "\n",
    "errors = (pred_class - true_class != 0)  # wrong prediction marked as 1\n",
    "\n",
    "# Take out only the wrong predictions\n",
    "pred_prob_wrong = pred_prob[errors] \n",
    "pred_class_wrong = pred_class[errors]\n",
    "true_class_wrong = true_class[errors]\n",
    "vali_img_wrong = vali_img[errors]\n",
    "\n",
    "pred_prob_wrong_top = np.max(pred_prob_wrong, axis=1)  # top prob.\n",
    "true_prob_wrong = np.diagonal(np.take(pred_prob_wrong, true_class_wrong, axis=1))  # prob. of its true label\n",
    "delta = pred_prob_wrong_top - true_prob_wrong  # differences\n",
    "delta_sort = np.argsort(delta)  # sort (increase)\n",
    "top10 = delta_sort[-10:]  # take the top ten (maximum difference)\n",
    "\n",
    "# plot the top ten\n",
    "for i in range(10):\n",
    "    plt.subplot(2, 5, i+1,)\n",
    "    error = top10[i]\n",
    "    plt.imshow(vali_img_wrong[error].reshape(28, 28), cmap='gray')\n",
    "    plt.title(\"Predicted label :{}\\nTrue label :{}\".format(pred_class_wrong[error],true_class_wrong[error]))\n",
    "plt.subplots_adjust(left = 0.125, right = 2, top = 1.5, bottom = 0.1)\n"
   ]
  },
  {
   "cell_type": "markdown",
   "metadata": {},
   "source": [
    "12. Predict\n",
    "perdict the label for testing data set"
   ]
  },
  {
   "cell_type": "code",
   "execution_count": 33,
   "metadata": {},
   "outputs": [],
   "source": [
    "# Predict on testing data\n",
    "pred = model.predict(test_img)\n",
    "pred_label = np.argmax(pred,axis = 1) # choose the label with max prob. as predicted label\n"
   ]
  },
  {
   "cell_type": "markdown",
   "metadata": {},
   "source": [
    "13. Submission\n",
    "generate the .csv file for submission"
   ]
  },
  {
   "cell_type": "code",
   "execution_count": 36,
   "metadata": {},
   "outputs": [
    {
     "data": {
      "text/html": [
       "<div>\n",
       "<style scoped>\n",
       "    .dataframe tbody tr th:only-of-type {\n",
       "        vertical-align: middle;\n",
       "    }\n",
       "\n",
       "    .dataframe tbody tr th {\n",
       "        vertical-align: top;\n",
       "    }\n",
       "\n",
       "    .dataframe thead th {\n",
       "        text-align: right;\n",
       "    }\n",
       "</style>\n",
       "<table border=\"1\" class=\"dataframe\">\n",
       "  <thead>\n",
       "    <tr style=\"text-align: right;\">\n",
       "      <th></th>\n",
       "      <th>ImageId</th>\n",
       "      <th>Label</th>\n",
       "    </tr>\n",
       "  </thead>\n",
       "  <tbody>\n",
       "    <tr>\n",
       "      <th>0</th>\n",
       "      <td>1</td>\n",
       "      <td>2</td>\n",
       "    </tr>\n",
       "    <tr>\n",
       "      <th>1</th>\n",
       "      <td>2</td>\n",
       "      <td>0</td>\n",
       "    </tr>\n",
       "    <tr>\n",
       "      <th>2</th>\n",
       "      <td>3</td>\n",
       "      <td>9</td>\n",
       "    </tr>\n",
       "    <tr>\n",
       "      <th>3</th>\n",
       "      <td>4</td>\n",
       "      <td>9</td>\n",
       "    </tr>\n",
       "    <tr>\n",
       "      <th>4</th>\n",
       "      <td>5</td>\n",
       "      <td>3</td>\n",
       "    </tr>\n",
       "  </tbody>\n",
       "</table>\n",
       "</div>"
      ],
      "text/plain": [
       "   ImageId  Label\n",
       "0        1      2\n",
       "1        2      0\n",
       "2        3      9\n",
       "3        4      9\n",
       "4        5      3"
      ]
     },
     "execution_count": 36,
     "metadata": {},
     "output_type": "execute_result"
    }
   ],
   "source": [
    "# Generate the submission file\n",
    "result = pd.Series(pred_label, name = \"Label\")\n",
    "img_id = pd.Series(range(1,28001),name = \"ImageId\")\n",
    "submission = pd.concat([img_id, result],axis = 1)\n",
    "submission.to_csv(\"result.csv\",index = False)\n",
    "# show the first five line of the file\n",
    "submission.head()\n"
   ]
  }
 ],
 "metadata": {
  "kernelspec": {
   "display_name": "Python 3",
   "language": "python",
   "name": "python3"
  },
  "language_info": {
   "codemirror_mode": {
    "name": "ipython",
    "version": 3
   },
   "file_extension": ".py",
   "mimetype": "text/x-python",
   "name": "python",
   "nbconvert_exporter": "python",
   "pygments_lexer": "ipython3",
   "version": "3.6.8"
  }
 },
 "nbformat": 4,
 "nbformat_minor": 2
}
